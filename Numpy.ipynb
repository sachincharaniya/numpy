{
 "cells": [
  {
   "cell_type": "code",
   "execution_count": 1,
   "id": "ab49395b",
   "metadata": {},
   "outputs": [
    {
     "name": "stdout",
     "output_type": "stream",
     "text": [
      "int32\n"
     ]
    }
   ],
   "source": [
    "#1 create a Numpy array 'arr' of integers from 0 tp 5 and print its datatype.\n",
    "import numpy as np\n",
    "arr = np.array([0,1,2,3,4,5])\n",
    "print(arr.dtype)"
   ]
  },
  {
   "cell_type": "code",
   "execution_count": 30,
   "id": "c4f2f75b",
   "metadata": {},
   "outputs": [
    {
     "name": "stdout",
     "output_type": "stream",
     "text": [
      "The data type of 'arr' is float64.\n"
     ]
    }
   ],
   "source": [
    "#2 Given a NumpPy array 'arr' , check if its data type is float64.\n",
    "arr = np.array([1.5, 2.6, 3.7])\n",
    "if arr.dtype == np.float64:\n",
    "    print(\"The data type of 'arr' is float64.\")\n",
    "else:\n",
    "    print(\"The data type of 'arr' is not float64.\")"
   ]
  },
  {
   "cell_type": "code",
   "execution_count": 7,
   "id": "0481b137",
   "metadata": {},
   "outputs": [
    {
     "name": "stdout",
     "output_type": "stream",
     "text": [
      "The data type of 'arr' is complex128.\n"
     ]
    }
   ],
   "source": [
    "#3 Create a NumPy array 'arr' with a data type of complex128 containing three complex numbers.\n",
    "arr = np.array([1 + 2j, 3 - 4j, 5 + 6j])\n",
    "if arr.dtype == np.complex128:\n",
    "    print(\"The data type of 'arr' is complex128.\")\n",
    "else:\n",
    "    print(\"The data type of 'arr' is not complex128.\")"
   ]
  },
  {
   "cell_type": "code",
   "execution_count": 19,
   "id": "0c9f5024",
   "metadata": {},
   "outputs": [
    {
     "name": "stdout",
     "output_type": "stream",
     "text": [
      "float32\n"
     ]
    }
   ],
   "source": [
    "#4. Convert an existing NumPy array 'arr' of integers to float32 data type.\n",
    "arr = np.array([0,1,2,3,4,5])\n",
    "arr = arr.astype(np.float32())\n",
    "print(arr.dtype)"
   ]
  },
  {
   "cell_type": "code",
   "execution_count": 20,
   "id": "f12efdbf",
   "metadata": {},
   "outputs": [
    {
     "name": "stdout",
     "output_type": "stream",
     "text": [
      "float32\n"
     ]
    }
   ],
   "source": [
    "#5 Given a Numpy array 'arr' with flaot64 data type,convert it to flaot32 to reduce decimal precision.\n",
    "arr = np.array([0,1,2,3,4,5])\n",
    "arr = arr.astype(np.float32())\n",
    "print(arr.dtype)"
   ]
  },
  {
   "cell_type": "code",
   "execution_count": 24,
   "id": "fd9e134f",
   "metadata": {},
   "outputs": [
    {
     "name": "stdout",
     "output_type": "stream",
     "text": [
      "shape :  (2, 3)\n",
      "size :  6\n",
      "shape :  int32\n"
     ]
    }
   ],
   "source": [
    "#6. write a function array_attributes that takes a NumPy array as intput array as input and return its shape,size and data type.\n",
    "def array_attributes(input_array):\n",
    "    shape = input_array.shape\n",
    "    size = input_array.size\n",
    "    dtype = input_array.dtype\n",
    "    return shape,size,dtype\n",
    "arr = np.array([[1,2,3],[4,5,6]])\n",
    "shape,size,dtype = array_attributes(arr)\n",
    "print(\"shape : \",shape)\n",
    "print(\"size : \",size)\n",
    "print(\"shape : \",dtype)"
   ]
  },
  {
   "cell_type": "code",
   "execution_count": 29,
   "id": "123dc12f",
   "metadata": {},
   "outputs": [
    {
     "name": "stdout",
     "output_type": "stream",
     "text": [
      "dimensionality :  3\n"
     ]
    }
   ],
   "source": [
    "#7. create a function array_dimension that takes a NumPy array as input and return its dimensionality.\n",
    "def array_dimension(input_array):\n",
    "    return input_array.ndim\n",
    "arr = np.array([[[1,2,3],[4,5,6]]])\n",
    "dimensionality = array_dimension(arr)\n",
    "print(\"dimensionality : \",dimensionality)"
   ]
  },
  {
   "cell_type": "code",
   "execution_count": 34,
   "id": "43640b71",
   "metadata": {},
   "outputs": [
    {
     "name": "stdout",
     "output_type": "stream",
     "text": [
      "Item size :  4\n",
      "total size :  24\n"
     ]
    }
   ],
   "source": [
    "#8 Design a function item_size_into that takes a Numpy array as input and returns the item size and the total size in bytes.\n",
    "def item_size_into(input_array):\n",
    "    item_size = input_array.itemsize\n",
    "    total_size = input_array.size * item_size\n",
    "    return item_size,total_size\n",
    "arr = np.array([[1,2,3],[4,5,6]])\n",
    "item_size,total_size = item_size_into(arr)\n",
    "print(\"Item size : \",item_size)\n",
    "print(\"total size : \",total_size)"
   ]
  },
  {
   "cell_type": "code",
   "execution_count": 35,
   "id": "97a9774c",
   "metadata": {},
   "outputs": [
    {
     "name": "stdout",
     "output_type": "stream",
     "text": [
      "(12, 4)\n"
     ]
    }
   ],
   "source": [
    "#9. Create a function array_strides that takes a NumPy array as input and returns the strides of the array. \n",
    "def array_strides(input_array):\n",
    "    return input_array.strides\n",
    "arr = np.array([[1,2,3],[4,5,6]])\n",
    "strides = array_strides(arr)\n",
    "print(strides)"
   ]
  },
  {
   "cell_type": "code",
   "execution_count": 38,
   "id": "4464ce98",
   "metadata": {},
   "outputs": [
    {
     "name": "stdout",
     "output_type": "stream",
     "text": [
      "shape :  (2, 3)\n",
      "strides :  (12, 4)\n"
     ]
    }
   ],
   "source": [
    "#10. Design a function shape_stide_relationship thar takes a NumPy array as input and returns the shape and strides of the array.\n",
    "def shape_stide_relationship(input_array):\n",
    "    shape = input_array.shape\n",
    "    strides = input_array.strides\n",
    "    return shape, strides\n",
    "arr = np.array([[1,2,3],[4,5,6]])\n",
    "shape,strides = shape_stide_relationship(arr)\n",
    "print(\"shape : \",shape)\n",
    "print(\"strides : \",strides)"
   ]
  },
  {
   "cell_type": "code",
   "execution_count": 41,
   "id": "18beace9",
   "metadata": {},
   "outputs": [
    {
     "name": "stdout",
     "output_type": "stream",
     "text": [
      "enter number : 8\n",
      "[0. 0. 0. 0. 0. 0. 0. 0.]\n"
     ]
    }
   ],
   "source": [
    "#11 Create a function `create_zeros_array` that takes an integer `n` as input and returns a NumPy array of zeros with `n` elements.\n",
    "def create_zeros_array(n):\n",
    "    return np.zeros(n)\n",
    "n = int(input(\"enter number : \"))\n",
    "zeros_arr = create_zeros_array(n)\n",
    "print(zeros_arr)"
   ]
  },
  {
   "cell_type": "code",
   "execution_count": 42,
   "id": "a84c2e99",
   "metadata": {},
   "outputs": [
    {
     "name": "stdout",
     "output_type": "stream",
     "text": [
      "[[1. 1. 1. 1.]\n",
      " [1. 1. 1. 1.]\n",
      " [1. 1. 1. 1.]]\n"
     ]
    }
   ],
   "source": [
    "#12. write a function `create_ones_matrix` that takes integers `row` and `cols` as inputs and generates a 2D NumPy array filled with ones of size `rows x col`.\n",
    "def create_ones_matrix(rows,cols):\n",
    "    return np.ones((rows,cols))\n",
    "rows = 3\n",
    "cols = 4\n",
    "ones_matrix = create_ones_matrix(rows,cols)\n",
    "print(ones_matrix)"
   ]
  },
  {
   "cell_type": "code",
   "execution_count": 44,
   "id": "042d23cd",
   "metadata": {},
   "outputs": [
    {
     "name": "stdout",
     "output_type": "stream",
     "text": [
      "[1 3 5 7 9]\n"
     ]
    }
   ],
   "source": [
    "#13 write a function `generate_range_array` that takes three integers start,stop and step as arguments and create a NumPy array with a range starting from `start`,ending at stop(exclusive), and with the specified 'step'.\n",
    "def generate_range_array(start,stop,step):\n",
    "    return np.arange(start,stop,step)\n",
    "start = 1\n",
    "stop = 10\n",
    "step = 2\n",
    "range_array = generate_range_array(start,stop,step)\n",
    "print(range_array)"
   ]
  },
  {
   "cell_type": "code",
   "execution_count": 45,
   "id": "874e216a",
   "metadata": {},
   "outputs": [
    {
     "name": "stdout",
     "output_type": "stream",
     "text": [
      "[0.   0.25 0.5  0.75 1.  ]\n"
     ]
    }
   ],
   "source": [
    "#14 Design a function `generate_linear_space` that takes two floats `start`,`stop`,and an integer `num` as arguments and generates and generates a NumPy array with num equally spaced values between `start` and `stop`(inclusive).\n",
    "def generate_linear_space(start, stop, num):\n",
    "    return np.linspace(start, stop, num)\n",
    "start = 0.0\n",
    "stop = 1.0\n",
    "num = 5\n",
    "linear_space_array = generate_linear_space(start, stop, num)\n",
    "print(linear_space_array)"
   ]
  },
  {
   "cell_type": "code",
   "execution_count": 46,
   "id": "0e0b9d5c",
   "metadata": {},
   "outputs": [
    {
     "name": "stdout",
     "output_type": "stream",
     "text": [
      "[[1. 0. 0.]\n",
      " [0. 1. 0.]\n",
      " [0. 0. 1.]]\n"
     ]
    }
   ],
   "source": [
    "#15. Create a function `create_identify_matrix` that takes an interger `n` as input and generates a square identify matrix of size `n x n` using `numpy.eye`.\n",
    "import numpy as np\n",
    "\n",
    "def create_identity_matrix(n):\n",
    "    return np.eye(n)\n",
    "n = 3\n",
    "identity_matrix = create_identity_matrix(n)\n",
    "print(identity_matrix)"
   ]
  },
  {
   "cell_type": "code",
   "execution_count": 47,
   "id": "43f7d711",
   "metadata": {},
   "outputs": [
    {
     "name": "stdout",
     "output_type": "stream",
     "text": [
      "[1 2 3 4 5]\n"
     ]
    }
   ],
   "source": [
    "#16. write a function that takes a Python list and converts is into a NumPy array.\n",
    "def list_to_numpy_array(input_list):\n",
    "    return np.array(input_list)\n",
    "my_list = [1, 2, 3, 4, 5]\n",
    "numpy_array = list_to_numpy_array(my_list)\n",
    "print(numpy_array)"
   ]
  },
  {
   "cell_type": "code",
   "execution_count": 48,
   "id": "d466b201",
   "metadata": {},
   "outputs": [
    {
     "name": "stdout",
     "output_type": "stream",
     "text": [
      "Original Array:\n",
      "[[100   2   3]\n",
      " [  4   5   6]]\n",
      "\n",
      "View Array:\n",
      "[[100   2   3]\n",
      " [  4   5   6]]\n"
     ]
    }
   ],
   "source": [
    "#17. Create a NumPy array and demonstrate the use of `numpy.view` to create a new array object with the same data.\n",
    "original_array = np.array([[1, 2, 3], [4, 5, 6]])\n",
    "view_array = original_array.view()\n",
    "view_array[0, 0] = 100\n",
    "print(\"Original Array:\")\n",
    "print(original_array)\n",
    "print(\"\\nView Array:\")\n",
    "print(view_array)\n"
   ]
  },
  {
   "cell_type": "code",
   "execution_count": 49,
   "id": "485993f9",
   "metadata": {},
   "outputs": [
    {
     "name": "stdout",
     "output_type": "stream",
     "text": [
      "[[1 2]\n",
      " [3 4]\n",
      " [5 6]]\n"
     ]
    }
   ],
   "source": [
    "#18. write a function that takes two NumPy arrays and concatenates them along a specified axis.\n",
    "def concatenate_arrays(arr1, arr2, axis=0):\n",
    "    return np.concatenate((arr1, arr2), axis=axis)\n",
    "array1 = np.array([[1, 2], [3, 4]])\n",
    "array2 = np.array([[5, 6]])\n",
    "result = concatenate_arrays(array1, array2, axis=0)\n",
    "print(result)\n"
   ]
  },
  {
   "cell_type": "code",
   "execution_count": 51,
   "id": "bb14d490",
   "metadata": {},
   "outputs": [
    {
     "name": "stdout",
     "output_type": "stream",
     "text": [
      "[[1 2 5]\n",
      " [3 4 6]]\n"
     ]
    }
   ],
   "source": [
    "#19. create two NumPy arrays with different shapes and concatenate them horizontally using `numpy` concatenate.\n",
    "array1 = np.array([[1, 2], [3, 4]])\n",
    "array2 = np.array([[5], [6]])\n",
    "result = np.concatenate((array1, array2), axis=1)\n",
    "print(result)"
   ]
  },
  {
   "cell_type": "code",
   "execution_count": 52,
   "id": "4b956b92",
   "metadata": {},
   "outputs": [
    {
     "name": "stdout",
     "output_type": "stream",
     "text": [
      "[[ 1  2]\n",
      " [ 3  4]\n",
      " [ 5  6]\n",
      " [ 7  8]\n",
      " [ 9 10]]\n"
     ]
    }
   ],
   "source": [
    "#20. write a function that vertically stacks multiple NumPy arrays given as a list.\n",
    "def stack_arrays_vertically(arrays):\n",
    "    return np.vstack(arrays)\n",
    "array1 = np.array([[1, 2], [3, 4]])\n",
    "array2 = np.array([[5, 6]])\n",
    "array3 = np.array([[7, 8], [9, 10]])\n",
    "stacked_array = stack_arrays_vertically([array1, array2, array3])\n",
    "print(stacked_array)"
   ]
  },
  {
   "cell_type": "code",
   "execution_count": 53,
   "id": "fbe14bf4",
   "metadata": {},
   "outputs": [
    {
     "name": "stdout",
     "output_type": "stream",
     "text": [
      "[1 3 5 7 9]\n"
     ]
    }
   ],
   "source": [
    "#21. write a function using NumPy to create an array of integers within a specified range(inclusive) with a given step size.\n",
    "def create_integer_range_array(start, stop, step):\n",
    "    return np.arange(start, stop + 1, step)\n",
    "start = 1\n",
    "stop = 10\n",
    "step = 2\n",
    "integer_range_array = create_integer_range_array(start, stop, step)\n",
    "print(integer_range_array)\n"
   ]
  },
  {
   "cell_type": "code",
   "execution_count": 54,
   "id": "cc0a8012",
   "metadata": {},
   "outputs": [
    {
     "name": "stdout",
     "output_type": "stream",
     "text": [
      "[0.         0.11111111 0.22222222 0.33333333 0.44444444 0.55555556\n",
      " 0.66666667 0.77777778 0.88888889 1.        ]\n"
     ]
    }
   ],
   "source": [
    "#22. write a Python function using NumPy to generate an array of 10 equally spaced values  between 0 and 1(inclusive)\n",
    "def generate_equally_spaced_values():\n",
    "    return np.linspace(0, 1, 10)\n",
    "equally_spaced_values = generate_equally_spaced_values()\n",
    "print(equally_spaced_values)"
   ]
  },
  {
   "cell_type": "code",
   "execution_count": 55,
   "id": "b2dfe638",
   "metadata": {},
   "outputs": [
    {
     "name": "stdout",
     "output_type": "stream",
     "text": [
      "[   1.            5.62341325   31.6227766   177.827941   1000.        ]\n"
     ]
    }
   ],
   "source": [
    "#23. Write a Python function using NumPy to create an array of 5 logarithmically spaced values between 1 and 1000(inclusive).\n",
    "def generate_logarithmically_spaced_values():\n",
    "    return np.logspace(0, 3, 5)\n",
    "logarithmically_spaced_values = generate_logarithmically_spaced_values()\n",
    "print(logarithmically_spaced_values)"
   ]
  },
  {
   "cell_type": "code",
   "execution_count": 56,
   "id": "701c59ab",
   "metadata": {},
   "outputs": [
    {
     "name": "stdout",
     "output_type": "stream",
     "text": [
      "[[ 48  58   7]\n",
      " [ 99  62  99]\n",
      " [ 87  10   5]\n",
      " [ 11  46  98]\n",
      " [ 60  48 100]]\n"
     ]
    }
   ],
   "source": [
    "#24. Write a Python function using NumPy to create an array thar contains 5 rows and 3 columns, where the values are eandom integers between 1 and 100.\n",
    "def generate_random_array():\n",
    "    return np.random.randint(1, 101, size=(5, 3))\n",
    "random_array = generate_random_array()\n",
    "print(random_array)"
   ]
  },
  {
   "cell_type": "code",
   "execution_count": 27,
   "id": "0ba4ccc0",
   "metadata": {},
   "outputs": [],
   "source": [
    "#25. write a function that takes a Pandas DataFrame and replace all negative values in a specific column with zeros. Use Numpy Operations within the Pandas DataFrame."
   ]
  },
  {
   "cell_type": "code",
   "execution_count": 59,
   "id": "9d1937d4",
   "metadata": {},
   "outputs": [
    {
     "name": "stdout",
     "output_type": "stream",
     "text": [
      "30\n"
     ]
    }
   ],
   "source": [
    "#26. Access the 3rd element from the given NumPy array.\n",
    "arr=np.array([10,20,30,40,50])\n",
    "third_element = arr[2]\n",
    "print(third_element)"
   ]
  },
  {
   "cell_type": "code",
   "execution_count": 60,
   "id": "f7a83530",
   "metadata": {},
   "outputs": [
    {
     "name": "stdout",
     "output_type": "stream",
     "text": [
      "Element at index (1, 2): 6\n"
     ]
    }
   ],
   "source": [
    "#27 Retrieve the element at index(1,2) from the 2D Numpy array.\n",
    "arr_2d = np.array([[1,2,3],[4,5,6],[7,8,9]])\n",
    "element_at_index_1_2 = arr_2d[1, 2]\n",
    "print(\"Element at index (1, 2):\", element_at_index_1_2)"
   ]
  },
  {
   "cell_type": "code",
   "execution_count": 62,
   "id": "1bc77c94",
   "metadata": {},
   "outputs": [
    {
     "name": "stdout",
     "output_type": "stream",
     "text": [
      "Elements greater than 5: [ 8 10  7]\n"
     ]
    }
   ],
   "source": [
    "#28. Using boolean indexing,extract elements greater than 5 from the given Numpy array.\n",
    "arr = np.array([3,8,2,10,5,7])\n",
    "result = arr[arr>5]\n",
    "print(\"Elements greater than 5:\", result)"
   ]
  },
  {
   "cell_type": "code",
   "execution_count": 63,
   "id": "fd0f770e",
   "metadata": {},
   "outputs": [
    {
     "name": "stdout",
     "output_type": "stream",
     "text": [
      "Sliced elements: [3 4 5 6]\n"
     ]
    }
   ],
   "source": [
    "#29. Perform basic slicing to extract elements from index 2 to 5 (inclusive) from the given NumPy array.\n",
    "arr = np.array([1,2,3,4,5,6,7,8,9])\n",
    "result = arr[2:6]\n",
    "print(\"Sliced elements:\", result)"
   ]
  },
  {
   "cell_type": "code",
   "execution_count": 64,
   "id": "61bb7186",
   "metadata": {},
   "outputs": [
    {
     "name": "stdout",
     "output_type": "stream",
     "text": [
      "Sub-array [[2,3],[5,6]]:\n",
      "[[2 3]\n",
      " [5 6]]\n"
     ]
    }
   ],
   "source": [
    "#30 Slice the 2D Numpy array to extract the sub-array `[[2,3],[5,6]]` from the given array.\n",
    "arr_2d = np.array([[1,2,3],[4,5,6],[7,8,9]])\n",
    "arr_2d = np.array([[1, 2, 3],\n",
    "                   [4, 5, 6],\n",
    "                   [7, 8, 9]])\n",
    "\n",
    "sub_array = arr_2d[0:2, 1:3]\n",
    "print(\"Sub-array [[2,3],[5,6]]:\")\n",
    "print(sub_array)\n"
   ]
  },
  {
   "cell_type": "code",
   "execution_count": 65,
   "id": "20849939",
   "metadata": {},
   "outputs": [
    {
     "name": "stdout",
     "output_type": "stream",
     "text": [
      "Extracted elements: [5 2 7 1 3 9]\n"
     ]
    }
   ],
   "source": [
    "#31. Write a NumPy function to extract elements in specific order from given 2D array based on indices provided in another array.\n",
    "def extract_elements_by_indices(arr_2d, indices):\n",
    "    \n",
    "    flattened_arr = arr_2d.flatten()\n",
    "    extracted_elements = flattened_arr[indices]\n",
    "    return extracted_elements\n",
    "\n",
    "arr_2d = np.array([[1, 2, 3],\n",
    "                   [4, 5, 6],\n",
    "                   [7, 8, 9]])\n",
    "indices = np.array([4, 1, 6, 0, 2, 8])\n",
    "extracted_elements = extract_elements_by_indices(arr_2d, indices)\n",
    "print(\"Extracted elements:\", extracted_elements)\n"
   ]
  },
  {
   "cell_type": "code",
   "execution_count": 66,
   "id": "6030b55e",
   "metadata": {},
   "outputs": [
    {
     "name": "stdout",
     "output_type": "stream",
     "text": [
      "Filtered elements greater than 5 : [6 7 8 9]\n"
     ]
    }
   ],
   "source": [
    "#32. Create a NumPy function that filters elements greter than a threshoild from a given 1D array using boolean indexing.\n",
    "def filter_elements_greater_than_threshold(arr, threshold):\n",
    "    filtered_array = arr[arr > threshold]\n",
    "    return filtered_array\n",
    "arr = np.array([1, 2, 3, 4, 5, 6, 7, 8, 9])\n",
    "threshold = 5\n",
    "filtered_elements = filter_elements_greater_than_threshold(arr, threshold)\n",
    "print(\"Filtered elements greater than\", threshold, \":\", filtered_elements)"
   ]
  },
  {
   "cell_type": "code",
   "execution_count": 67,
   "id": "39e5984f",
   "metadata": {},
   "outputs": [
    {
     "name": "stdout",
     "output_type": "stream",
     "text": [
      "Extracted elements:\n",
      "[ 4 18]\n"
     ]
    }
   ],
   "source": [
    "#33. Develop a NumPy function that extract specific elements from a 3D array using indices provided in three separate array for each dimension.\n",
    "def extract_elements_from_3d_array(arr_3d, indices_dim1, indices_dim2, indices_dim3):\n",
    "    extracted_elements = arr_3d[indices_dim1, indices_dim2, indices_dim3]\n",
    "    return extracted_elements\n",
    "\n",
    "arr_3d = np.array([[[1, 2, 3],\n",
    "                    [4, 5, 6],\n",
    "                    [7, 8, 9]],\n",
    "                   [[10, 11, 12],\n",
    "                    [13, 14, 15],\n",
    "                    [16, 17, 18]]])\n",
    "\n",
    "indices_dim1 = np.array([0, 1])  \n",
    "indices_dim2 = np.array([1, 2]) \n",
    "indices_dim3 = np.array([0, 2]) \n",
    "\n",
    "extracted_elements = extract_elements_from_3d_array(arr_3d, indices_dim1, indices_dim2, indices_dim3)\n",
    "print(\"Extracted elements:\")\n",
    "print(extracted_elements)\n"
   ]
  },
  {
   "cell_type": "code",
   "execution_count": 68,
   "id": "81e1a9dc",
   "metadata": {},
   "outputs": [
    {
     "name": "stdout",
     "output_type": "stream",
     "text": [
      "Filtered elements: [4 6 8]\n"
     ]
    }
   ],
   "source": [
    "#34. Write a NumPy function that returns elements from an array where both two conditions are satisfied using Boolean indexing.\n",
    "def filter_elements_by_conditions(arr, condition1, condition2):\n",
    "    \n",
    "    combined_condition = np.logical_and(condition1, condition2)\n",
    "    filtered_elements = arr[combined_condition]\n",
    "    return filtered_elements\n",
    "\n",
    "arr = np.array([1, 2, 3, 4, 5, 6, 7, 8, 9])\n",
    "condition1 = arr > 3\n",
    "condition2 = arr % 2 == 0\n",
    "\n",
    "filtered_elements = filter_elements_by_conditions(arr, condition1, condition2)\n",
    "print(\"Filtered elements:\", filtered_elements)"
   ]
  },
  {
   "cell_type": "code",
   "execution_count": 73,
   "id": "524f00a1",
   "metadata": {},
   "outputs": [],
   "source": [
    "#35. Create a NumPy function that extracts elements from a 2D array using row and columns indices provided in separate arrays.\n",
    "import numpy as np\n",
    "\n",
    "def extract_elements_from_2d_array(arr_2d, row_indices, col_indices):\n",
    "    extracted_elements = arr_2d[row_indices, col_indices]\n",
    "    return extracted_elements\n",
    "\n",
    "arr_2d = np.array([[1, 2, 3],\n",
    "                   [4, 5, 6],\n",
    "                   [7, 8, 9]])\n",
    "\n",
    "row_indices = np.array([0, 1, 2])  \n",
    "col_indices = np.array([1, 0, 2])  \n",
    "\n",
    "extracted_elements = extract_elements_from_2d_array(arr_2d, row_indices, col_indices)\n",
    "print(\"Extracted elements:\")\n",
    "print(extracted_elements)\n"
   ]
  },
  {
   "cell_type": "code",
   "execution_count": 69,
   "id": "29503c7e",
   "metadata": {},
   "outputs": [
    {
     "name": "stdout",
     "output_type": "stream",
     "text": [
      "Result after adding scalar value of 5 to each element:\n",
      "[[ 6  7  8]\n",
      " [ 9 10 11]\n",
      " [12 13 14]]\n"
     ]
    }
   ],
   "source": [
    "#36. Given an array arr of shape(3,3) add scalar value of 5 to each element using NumPy broadcasting.\n",
    "arr = np.array([[1, 2, 3],\n",
    "                [4, 5, 6],\n",
    "                [7, 8, 9]])\n",
    "result = arr + 5\n",
    "print(\"Result after adding scalar value of 5 to each element:\")\n",
    "print(result)\n"
   ]
  },
  {
   "cell_type": "code",
   "execution_count": 142,
   "id": "8e9a4eed",
   "metadata": {},
   "outputs": [
    {
     "name": "stdout",
     "output_type": "stream",
     "text": [
      "arr1:\n",
      "[[2 3 4]]\n",
      "\n",
      "arr2:\n",
      "[[ 1  2  3  4]\n",
      " [ 5  6  7  8]\n",
      " [ 9 10 11 12]]\n",
      "\n",
      "Result:\n",
      "[[ 2  4  6  8]\n",
      " [15 18 21 24]\n",
      " [36 40 44 48]]\n"
     ]
    }
   ],
   "source": [
    "#37. Consider two arrays arr1 of shape(1,3) and arr2 of shape(3,4). Multiply each row of arr2 by the corresponding element in arr1 using NumPy broadcasting.\n",
    "arr1 = np.array([[2, 3, 4]])\n",
    "arr2 = np.array([[1, 2, 3, 4],\n",
    "                 [5, 6, 7, 8],\n",
    "                 [9, 10, 11, 12]])\n",
    "\n",
    "# Transpose arr1 to match the shape of arr2 for broadcasting\n",
    "arr1_broadcasted = arr1.T  # Transpose arr1 to make it of shape (3, 1)\n",
    "\n",
    "# Multiply each row of arr2 by the corresponding element in arr1 using broadcasting\n",
    "result = arr1_broadcasted * arr2\n",
    "\n",
    "print(\"arr1:\")\n",
    "print(arr1)\n",
    "\n",
    "print(\"\\narr2:\")\n",
    "print(arr2)\n",
    "\n",
    "print(\"\\nResult:\")\n",
    "print(result)\n",
    "\n"
   ]
  },
  {
   "cell_type": "code",
   "execution_count": 143,
   "id": "312cc570",
   "metadata": {},
   "outputs": [
    {
     "name": "stdout",
     "output_type": "stream",
     "text": [
      "arr1:\n",
      "[[2 3 4 5]]\n",
      "\n",
      "arr2:\n",
      "[[ 1  2  3]\n",
      " [ 4  5  6]\n",
      " [ 7  8  9]\n",
      " [10 11 12]]\n",
      "\n",
      "Result:\n",
      "[[ 3  4  5]\n",
      " [ 7  8  9]\n",
      " [11 12 13]\n",
      " [15 16 17]]\n"
     ]
    }
   ],
   "source": [
    "#38. Given a 1D array arr1 of shape(1,4) and a 2D array arr2 of shape(4,3) and arr1 to each row of arr2 using NumPy broadcasting.\n",
    "import numpy as np\n",
    "\n",
    "# Create arr1 of shape (1, 4) and arr2 of shape (4, 3)\n",
    "arr1 = np.array([[2, 3, 4, 5]])\n",
    "arr2 = np.array([[1, 2, 3],\n",
    "                 [4, 5, 6],\n",
    "                 [7, 8, 9],\n",
    "                 [10, 11, 12]])\n",
    "\n",
    "# Reshape arr1 to match the shape of arr2 for broadcasting\n",
    "arr1_broadcasted = arr1.reshape(4, 1)\n",
    "\n",
    "# Add arr1 to each row of arr2 using broadcasting\n",
    "result = arr1_broadcasted + arr2\n",
    "\n",
    "print(\"arr1:\")\n",
    "print(arr1)\n",
    "\n",
    "print(\"\\narr2:\")\n",
    "print(arr2)\n",
    "\n",
    "print(\"\\nResult:\")\n",
    "print(result)\n"
   ]
  },
  {
   "cell_type": "code",
   "execution_count": 75,
   "id": "5c5950c7",
   "metadata": {},
   "outputs": [
    {
     "name": "stdout",
     "output_type": "stream",
     "text": [
      "Result after broadcasting multiplication:\n",
      "[[[ 1  2  3]\n",
      "  [ 8 10 12]]\n",
      "\n",
      " [[ 3  6  9]\n",
      "  [16 20 24]]]\n"
     ]
    }
   ],
   "source": [
    "#40. Given array arr1 of shape(2,3) and arr2 of shape(2,2), perform multiplication using NumPy broadcasting. Handle the shape incompatibility.\n",
    "arr1 = np.array([[1, 2, 3],\n",
    "                 [4, 5, 6]])\n",
    "\n",
    "arr2 = np.array([[1, 2],\n",
    "                 [3, 4]])\n",
    "\n",
    "arr2_reshaped = arr2[:, :, np.newaxis]\n",
    "\n",
    "# Perform multiplication using broadcasting\n",
    "result = arr1 * arr2_reshaped\n",
    "\n",
    "print(\"Result after broadcasting multiplication:\")\n",
    "print(result)\n"
   ]
  },
  {
   "cell_type": "code",
   "execution_count": 76,
   "id": "d3070899",
   "metadata": {},
   "outputs": [
    {
     "name": "stdout",
     "output_type": "stream",
     "text": [
      "Column-wise mean: [2.5 3.5 4.5]\n"
     ]
    }
   ],
   "source": [
    "#41. Calculate column-wise mean for the given array:\n",
    "arr = np.array([[1, 2, 3],\n",
    "                [4, 5, 6]])\n",
    "column_means = np.mean(arr, axis=0)\n",
    "print(\"Column-wise mean:\", column_means)"
   ]
  },
  {
   "cell_type": "code",
   "execution_count": 77,
   "id": "e8f1b4e6",
   "metadata": {},
   "outputs": [
    {
     "name": "stdout",
     "output_type": "stream",
     "text": [
      "Maximum value in each row: [3 6]\n"
     ]
    }
   ],
   "source": [
    "#42 find maximum value in each row of the given array:\n",
    "arr = np.array([[1, 2, 3],\n",
    "                [4, 5, 6]])\n",
    "\n",
    "max_values_per_row = np.max(arr, axis=1)\n",
    "print(\"Maximum value in each row:\", max_values_per_row)\n"
   ]
  },
  {
   "cell_type": "code",
   "execution_count": 78,
   "id": "bf684241",
   "metadata": {},
   "outputs": [
    {
     "name": "stdout",
     "output_type": "stream",
     "text": [
      "Indices of maximum value in each column: [1 1 1]\n"
     ]
    }
   ],
   "source": [
    "#43. for the given array, find indices of maximum value in each column.\n",
    "arr = np.array([[1, 2, 3],\n",
    "                [4, 5, 6]])\n",
    "max_indices_per_column = np.argmax(arr, axis=0)\n",
    "print(\"Indices of maximum value in each column:\", max_indices_per_column)\n"
   ]
  },
  {
   "cell_type": "code",
   "execution_count": 79,
   "id": "4e2d8f88",
   "metadata": {},
   "outputs": [
    {
     "name": "stdout",
     "output_type": "stream",
     "text": [
      "Moving sum along rows:\n",
      "[[ 1  3  6]\n",
      " [ 4  9 15]\n",
      " [ 7 15 24]]\n"
     ]
    }
   ],
   "source": [
    "#44.for the given array, apply custom function to calculate moving sum along rows.\n",
    "def moving_sum(row):\n",
    "    return np.cumsum(row)\n",
    "arr = np.array([[1, 2, 3],\n",
    "                [4, 5, 6],\n",
    "                [7, 8, 9]])\n",
    "\n",
    "moving_sum_array = np.apply_along_axis(moving_sum, axis=1, arr=arr)\n",
    "\n",
    "print(\"Moving sum along rows:\")\n",
    "print(moving_sum_array)\n"
   ]
  },
  {
   "cell_type": "code",
   "execution_count": 80,
   "id": "df90b638",
   "metadata": {
    "scrolled": true
   },
   "outputs": [
    {
     "name": "stdout",
     "output_type": "stream",
     "text": [
      "Check if all elements in each column are even: [False False False]\n"
     ]
    }
   ],
   "source": [
    "#45. in the given array, check if all elements in each column are even.\n",
    "def check_even(column):\n",
    "    return np.all(column % 2 == 0)\n",
    "\n",
    "arr = np.array([[2, 4, 6],\n",
    "                [3, 5, 7]])\n",
    "\n",
    "all_even_columns = np.apply_along_axis(check_even, axis=0, arr=arr)\n",
    "print(\"Check if all elements in each column are even:\", all_even_columns)\n"
   ]
  },
  {
   "cell_type": "code",
   "execution_count": 81,
   "id": "d5d4ff23",
   "metadata": {},
   "outputs": [
    {
     "name": "stdout",
     "output_type": "stream",
     "text": [
      "Reshaped matrix:\n",
      "[[1 2 3]\n",
      " [4 5 6]]\n"
     ]
    }
   ],
   "source": [
    "#46. Given a NumPy array arr, reshape it into a matrix of dimensions `m` rows and `n` columns. Return the reshaped matrix.\n",
    "def reshape_array(original_array, m, n):\n",
    "    reshaped_matrix = np.reshape(original_array, (m, n))\n",
    "    return reshaped_matrix\n",
    "\n",
    "original_array = np.array([1, 2, 3, 4, 5, 6])\n",
    "\n",
    "m = 2\n",
    "n = 3\n",
    "reshaped_matrix = reshape_array(original_array, m, n)\n",
    "\n",
    "print(\"Reshaped matrix:\")\n",
    "print(reshaped_matrix)\n"
   ]
  },
  {
   "cell_type": "code",
   "execution_count": 82,
   "id": "4ae82ed9",
   "metadata": {},
   "outputs": [
    {
     "name": "stdout",
     "output_type": "stream",
     "text": [
      "Flattened array:\n",
      "[1 2 3 4 5 6]\n"
     ]
    }
   ],
   "source": [
    "#47. Create a function that takes a matric as input and returns the flattened array.\n",
    "def flatten_matrix(input_matrix):\n",
    "    flattened_array = input_matrix.flatten()\n",
    "    return flattened_array\n",
    "\n",
    "input_matrix = np.array([[1, 2, 3],\n",
    "                         [4, 5, 6]])\n",
    "flattened_array = flatten_matrix(input_matrix)\n",
    "\n",
    "print(\"Flattened array:\")\n",
    "print(flattened_array)\n"
   ]
  },
  {
   "cell_type": "code",
   "execution_count": 83,
   "id": "cb21844a",
   "metadata": {},
   "outputs": [
    {
     "name": "stdout",
     "output_type": "stream",
     "text": [
      "Concatenated array:\n",
      "[[1 2 5 6]\n",
      " [3 4 7 8]]\n"
     ]
    }
   ],
   "source": [
    "#48. write a function that concatenates two given arrays along a specified axis.\n",
    "\n",
    "def concatenate_arrays(array1, array2, axis):\n",
    "    concatenated_array = np.concatenate((array1, array2), axis=axis)\n",
    "    return concatenated_array\n",
    "\n",
    "array1 = np.array([[1, 2],\n",
    "                   [3, 4]])\n",
    "\n",
    "array2 = np.array([[5, 6],\n",
    "                   [7, 8]])\n",
    "axis = 1\n",
    "\n",
    "concatenated_array = concatenate_arrays(array1, array2, axis)\n",
    "print(\"Concatenated array:\")\n",
    "print(concatenated_array)"
   ]
  },
  {
   "cell_type": "code",
   "execution_count": 84,
   "id": "3ba0285c",
   "metadata": {},
   "outputs": [
    {
     "name": "stdout",
     "output_type": "stream",
     "text": [
      "Sub-arrays after splitting:\n",
      "[[1 2 3]]\n",
      "[[4 5 6]]\n",
      "[[7 8 9]]\n"
     ]
    }
   ],
   "source": [
    "#49. create a function that splits an array into multiple sub-array along a specified axis.\n",
    "def split_array(original_array, num_splits, axis):\n",
    "    split_arrays = np.split(original_array, num_splits, axis=axis)\n",
    "    return split_arrays\n",
    "original_array = np.array([[1, 2, 3],\n",
    "                           [4, 5, 6],\n",
    "                           [7, 8, 9]])\n",
    "num_splits = 3\n",
    "axis = 0\n",
    "split_arrays = split_array(original_array, num_splits, axis)\n",
    "print(\"Sub-arrays after splitting:\")\n",
    "for arr in split_arrays:\n",
    "    print(arr)"
   ]
  },
  {
   "cell_type": "code",
   "execution_count": 144,
   "id": "6714961f",
   "metadata": {},
   "outputs": [
    {
     "name": "stdout",
     "output_type": "stream",
     "text": [
      "Modified Array: [ 1 10 11  4  5]\n"
     ]
    }
   ],
   "source": [
    "#50. write a function that inserts and then deletes elements from a given array at specified indices.\n",
    "\n",
    "def modify_array(original_array, indices_to_insert, values_to_insert, indices_to_delete):\n",
    "    \n",
    "    for idx, value in zip(indices_to_insert, values_to_insert):\n",
    "        original_array = np.insert(original_array, idx, value)\n",
    "\n",
    "    original_array = np.delete(original_array, indices_to_delete)\n",
    "\n",
    "    return original_array\n",
    "\n",
    "# Test the function\n",
    "original_array = np.array([1, 2, 3, 4, 5])\n",
    "indices_to_insert = [2, 4]\n",
    "values_to_insert = [10, 11]\n",
    "indices_to_delete = [1, 3]\n",
    "\n",
    "modified_array = modify_array(original_array, indices_to_insert, values_to_insert, indices_to_delete)\n",
    "print(\"Modified Array:\", modified_array)\n"
   ]
  },
  {
   "cell_type": "code",
   "execution_count": 88,
   "id": "34e8f60e",
   "metadata": {},
   "outputs": [
    {
     "name": "stdout",
     "output_type": "stream",
     "text": [
      "arr1:\n",
      "[[5 4 8 2 1]\n",
      " [2 2 9 7 6]\n",
      " [8 4 1 8 3]\n",
      " [6 3 5 2 2]\n",
      " [5 2 2 9 9]]\n",
      "\n",
      "arr2:\n",
      "[[4 7 1 4 6]\n",
      " [1 1 6 3 3]\n",
      " [1 4 6 5 6]\n",
      " [8 1 4 6 2]\n",
      " [8 5 4 1 7]]\n",
      "\n",
      "Result of element-wise addition:\n",
      "[[ 9 11  9  6  7]\n",
      " [ 3  3 15 10  9]\n",
      " [ 9  8  7 13  9]\n",
      " [14  4  9  8  4]\n",
      " [13  7  6 10 16]]\n"
     ]
    }
   ],
   "source": [
    "#51. Create a NumPy array `arr1` with random integers and another array `arr2` with integers from 1 to 10. perfom element-wise addition between `arr1` and `arr2`.\n",
    "import numpy as np\n",
    "\n",
    "# Create arr1 with random integers\n",
    "arr1 = np.random.randint(1, 10, size=(5, 5))  # Example: 5x5 array of random integers from 1 to 100\n",
    "\n",
    "# Create arr2 with integers from 1 to 10\n",
    "arr2= np.random.randint(1, 10, size=(5, 5))\n",
    "\n",
    "# Perform element-wise addition between arr1 and arr2\n",
    "result = arr1 + arr2\n",
    "\n",
    "print(\"arr1:\")\n",
    "print(arr1)\n",
    "print(\"\\narr2:\")\n",
    "print(arr2)\n",
    "print(\"\\nResult of element-wise addition:\")\n",
    "print(result)\n"
   ]
  },
  {
   "cell_type": "code",
   "execution_count": 94,
   "id": "7fc2ec55",
   "metadata": {},
   "outputs": [
    {
     "name": "stdout",
     "output_type": "stream",
     "text": [
      "arr1:\n",
      "[10  9  8  7  6  5  4  3  2  1]\n",
      "\n",
      "arr2:\n",
      "[ 1  2  3  4  5  6  7  8  9 10]\n",
      "\n",
      "Result of element-wise subtraction:\n",
      "[ 9  7  5  3  1 -1 -3 -5 -7 -9]\n"
     ]
    }
   ],
   "source": [
    "#52. Generate a NumPy array `arr1` with sequential integers from 10 to 1 and another array `arr2` with integers from 1 to 10. subtract `arr2` from `arr1` element-wise.\n",
    "arr1 = np.arange(10, 0, -1)\n",
    "arr2 = np.arange(1, 11)\n",
    "result = arr1 - arr2\n",
    "\n",
    "print(\"arr1:\")\n",
    "print(arr1)\n",
    "print(\"\\narr2:\")\n",
    "print(arr2)\n",
    "print(\"\\nResult of element-wise subtraction:\")\n",
    "print(result)\n"
   ]
  },
  {
   "cell_type": "code",
   "execution_count": 102,
   "id": "913710de",
   "metadata": {},
   "outputs": [
    {
     "name": "stdout",
     "output_type": "stream",
     "text": [
      "arr1:\n",
      "[[4 4 3]\n",
      " [2 4 3]\n",
      " [1 2 4]]\n",
      "\n",
      "arr2:\n",
      "[[3 1 4]\n",
      " [3 4 3]\n",
      " [2 4 2]]\n",
      "\n",
      "Result of element-wise multiplication:\n",
      "[[12  4 12]\n",
      " [ 6 16  9]\n",
      " [ 2  8  8]]\n"
     ]
    }
   ],
   "source": [
    "#53. Create a NumPy array `arr1` with random integers and another array `arr2` integers from 1 to 5. perform element-wise multiplication between `arr1` by `arr2`.\n",
    "arr1 = np.random.randint(1, 5, size=(3, 3))\n",
    "arr2 = np.random.randint(1, 5, size=(3, 3))\n",
    "result = arr1 * arr2\n",
    "print(\"arr1:\")\n",
    "print(arr1)\n",
    "print(\"\\narr2:\")\n",
    "print(arr2)\n",
    "print(\"\\nResult of element-wise multiplication:\")\n",
    "print(result)\n"
   ]
  },
  {
   "cell_type": "code",
   "execution_count": 103,
   "id": "796f2f64",
   "metadata": {},
   "outputs": [
    {
     "name": "stdout",
     "output_type": "stream",
     "text": [
      "arr1:\n",
      "[ 2  4  6  8 10]\n",
      "\n",
      "arr2:\n",
      "[1 2 3 4 5]\n",
      "\n",
      "Result of element-wise division:\n",
      "[2. 2. 2. 2. 2.]\n"
     ]
    }
   ],
   "source": [
    "#54. Generate a NumPy array `arr1` with even integers from 2 to 10 and another array `arr2` with integers from 1 to 5. Perform element-wise division of `arr1` by `arr2`.\n",
    "arr1 = np.arange(2, 11, 2)\n",
    "arr2 = np.arange(1, 6)\n",
    "result = arr1 / arr2\n",
    "\n",
    "print(\"arr1:\")\n",
    "print(arr1)\n",
    "print(\"\\narr2:\")\n",
    "print(arr2)\n",
    "print(\"\\nResult of element-wise division:\")\n",
    "print(result)\n"
   ]
  },
  {
   "cell_type": "code",
   "execution_count": 104,
   "id": "49dda5f7",
   "metadata": {},
   "outputs": [
    {
     "name": "stdout",
     "output_type": "stream",
     "text": [
      "arr1:\n",
      "[1 2 3 4 5]\n",
      "\n",
      "arr2:\n",
      "[5 4 3 2 1]\n",
      "\n",
      "Result of element-wise exponentiation:\n",
      "[ 1 16 27 16  5]\n"
     ]
    }
   ],
   "source": [
    "#55. Create a NumPy array `arr1` with integers from 1 to 5 and another array `arr2` with the same numbers reversed. Calculate the exponentiation of `arr1` raised to the power of `arr2` element-wise.\n",
    "arr1 = np.arange(1, 6)\n",
    "arr2 = arr1[::-1]\n",
    "result = np.power(arr1, arr2)\n",
    "print(\"arr1:\")\n",
    "print(arr1)\n",
    "print(\"\\narr2:\")\n",
    "print(arr2)\n",
    "print(\"\\nResult of element-wise exponentiation:\")\n",
    "print(result)\n"
   ]
  },
  {
   "cell_type": "code",
   "execution_count": 105,
   "id": "ae3eb3ba",
   "metadata": {},
   "outputs": [
    {
     "name": "stdout",
     "output_type": "stream",
     "text": [
      "Occurrences of 'hello' within the array: 3\n"
     ]
    }
   ],
   "source": [
    "#56. Write a function that counts the occurrences of a specific substring within a NumPy array of strings.\n",
    "def count_substring_occurrences(arr, substring):\n",
    "    return sum(s.count(substring) for s in arr)\n",
    "arr = np.array(['hello', 'world', 'hello', 'numpy', 'hello'])\n",
    "substring = 'hello'\n",
    "occurrences = count_substring_occurrences(arr, substring)\n",
    "print(\"Occurrences of '{}' within the array: {}\".format(substring, occurrences))"
   ]
  },
  {
   "cell_type": "code",
   "execution_count": 106,
   "id": "927c725b",
   "metadata": {},
   "outputs": [
    {
     "name": "stdout",
     "output_type": "stream",
     "text": [
      "Uppercase characters extracted from the array: ['H', 'W', 'O', 'A', 'I', 'G', 'P', 'T']\n"
     ]
    }
   ],
   "source": [
    "#57. Write a function that extracts uppercase characters from a NumPy array of strings.\n",
    "def extract_uppercase_characters(arr):\n",
    "    return [char for s in arr for char in s if char.isupper()]\n",
    "arr = np.array(['Hello', 'World', 'OpenAI', 'GPT'])\n",
    "uppercase_characters = extract_uppercase_characters(arr)\n",
    "print(\"Uppercase characters extracted from the array:\", uppercase_characters)"
   ]
  },
  {
   "cell_type": "code",
   "execution_count": 108,
   "id": "2da66bcb",
   "metadata": {},
   "outputs": [
    {
     "name": "stdout",
     "output_type": "stream",
     "text": [
      "Array with replaced substrings:\n",
      "['orange' 'banana' 'grape' 'pineorange']\n"
     ]
    }
   ],
   "source": [
    "#58. Write a function that replaces occurrences of a substring in a NumPy array of strings with a new string.\n",
    "def replace_substring(arr, substring, new_string):\n",
    "    return np.array([s.replace(substring, new_string) for s in arr])\n",
    "arr = np.array(['apple', 'banana', 'grape', 'pineapple'])\n",
    "substring = 'apple'\n",
    "new_string = 'orange'\n",
    "arr_with_replacement = replace_substring(arr, substring, new_string)\n",
    "\n",
    "print(\"Array with replaced substrings:\")\n",
    "print(arr_with_replacement)"
   ]
  },
  {
   "cell_type": "code",
   "execution_count": 109,
   "id": "ff892aa2",
   "metadata": {},
   "outputs": [
    {
     "name": "stdout",
     "output_type": "stream",
     "text": [
      "Concatenated array:\n",
      "['HelloOpen' 'WorldAI']\n"
     ]
    }
   ],
   "source": [
    "#59. Write a function that concatenates strings in a NumPy array element-wise.\n",
    "def concatenate_strings_elementwise(arr1, arr2):\n",
    "    return np.array([s1 + s2 for s1, s2 in zip(arr1, arr2)])\n",
    "arr1 = np.array(['Hello', 'World'])\n",
    "arr2 = np.array(['Open', 'AI'])\n",
    "concatenated_array = concatenate_strings_elementwise(arr1, arr2)\n",
    "\n",
    "print(\"Concatenated array:\")\n",
    "print(concatenated_array)\n"
   ]
  },
  {
   "cell_type": "code",
   "execution_count": 110,
   "id": "0d61cea2",
   "metadata": {},
   "outputs": [
    {
     "name": "stdout",
     "output_type": "stream",
     "text": [
      "Length of the longest string: 9\n"
     ]
    }
   ],
   "source": [
    "#60. Write a function that finds the length of the longest string in a NumPy array.\n",
    "def longest_string_length(arr):\n",
    "    return max(map(len, arr))\n",
    "arr = np.array(['apple', 'banana', 'grape', 'pineapple'])\n",
    "longest_length = longest_string_length(arr)\n",
    "print(\"Length of the longest string:\", longest_length)"
   ]
  },
  {
   "cell_type": "code",
   "execution_count": 111,
   "id": "4ce47328",
   "metadata": {},
   "outputs": [
    {
     "name": "stdout",
     "output_type": "stream",
     "text": [
      "Mean: 510.68\n",
      "Median: 494.0\n",
      "Variance: 97438.4576\n",
      "Standard Deviation: 312.151337655311\n"
     ]
    }
   ],
   "source": [
    "#61. Create a dataset of 100 random integers between 1 and 1000. Compute the mean, median, variance, and standard deviation of the dataset using NumPy's functions\n",
    "dataset = np.random.randint(1, 1001, size=100)\n",
    "mean = np.mean(dataset)\n",
    "median = np.median(dataset)\n",
    "variance = np.var(dataset)\n",
    "std_deviation = np.std(dataset)\n",
    "print(\"Mean:\", mean)\n",
    "print(\"Median:\", median)\n",
    "print(\"Variance:\", variance)\n",
    "print(\"Standard Deviation:\", std_deviation)"
   ]
  },
  {
   "cell_type": "code",
   "execution_count": 113,
   "id": "abebebdb",
   "metadata": {},
   "outputs": [
    {
     "name": "stdout",
     "output_type": "stream",
     "text": [
      "25th Percentile: 29.25\n",
      "75th Percentile: 78.5\n"
     ]
    }
   ],
   "source": [
    "#62. Generate an array of 50 random numbers between 1 and 100. Find the 25th and 75th percentiles of the dataset.\n",
    "dataset = np.random.randint(1, 101, size=50)\n",
    "percentile_25th = np.percentile(dataset, 25)\n",
    "percentile_75th = np.percentile(dataset, 75)\n",
    "print(\"25th Percentile:\", percentile_25th)\n",
    "print(\"75th Percentile:\", percentile_75th)"
   ]
  },
  {
   "cell_type": "code",
   "execution_count": 115,
   "id": "aae6618f",
   "metadata": {},
   "outputs": [
    {
     "name": "stdout",
     "output_type": "stream",
     "text": [
      "Correlation Coefficient: -0.9999999999999999\n"
     ]
    }
   ],
   "source": [
    "#63. Create two arrays representing two sets of variables. Compute the correlation coefficient between these arrays using NumPy's `corrcoef` function.\n",
    "array1 = np.array([1, 2, 3, 4, 5])\n",
    "array2 = np.array([5, 4, 3, 2, 1])\n",
    "correlation_coefficient = np.corrcoef(array1, array2)[0, 1]\n",
    "print(\"Correlation Coefficient:\", correlation_coefficient)"
   ]
  },
  {
   "cell_type": "code",
   "execution_count": 116,
   "id": "df2e51b3",
   "metadata": {},
   "outputs": [
    {
     "name": "stdout",
     "output_type": "stream",
     "text": [
      "Result of matrix multiplication:\n",
      "[[ 30  24  18]\n",
      " [ 84  69  54]\n",
      " [138 114  90]]\n"
     ]
    }
   ],
   "source": [
    "#64. Create two matrices and perform matrix multiplication using NumPy's `dot` function.\n",
    "matrix1 = np.array([[1, 2, 3],\n",
    "                    [4, 5, 6],\n",
    "                    [7, 8, 9]])\n",
    "\n",
    "matrix2 = np.array([[9, 8, 7],\n",
    "                    [6, 5, 4],\n",
    "                    [3, 2, 1]])\n",
    "\n",
    "result = np.dot(matrix1, matrix2)\n",
    "\n",
    "print(\"Result of matrix multiplication:\")\n",
    "print(result)\n"
   ]
  },
  {
   "cell_type": "code",
   "execution_count": 117,
   "id": "c7353974",
   "metadata": {},
   "outputs": [
    {
     "name": "stdout",
     "output_type": "stream",
     "text": [
      "10th Percentile: 149.9\n",
      "Median (50th Percentile): 579.5\n",
      "90th Percentile: 860.5000000000001\n",
      "First Quartile (25th Percentile): 335.25\n",
      "Third Quartile (75th Percentile): 692.25\n"
     ]
    }
   ],
   "source": [
    "#65. Create an array of 50 integers between 10 and 1000. Calculate the 10th, 50th (median), and 90th percentiles along with the first and third quartiles.\n",
    "data = np.random.randint(10, 1001, size=50)\n",
    "percentiles = np.percentile(data, [10, 50, 90])\n",
    "quartiles = np.percentile(data, [25, 75])\n",
    "print(\"10th Percentile:\", percentiles[0])\n",
    "print(\"Median (50th Percentile):\", percentiles[1])\n",
    "print(\"90th Percentile:\", percentiles[2])\n",
    "print(\"First Quartile (25th Percentile):\", quartiles[0])\n",
    "print(\"Third Quartile (75th Percentile):\", quartiles[1])\n"
   ]
  },
  {
   "cell_type": "code",
   "execution_count": 118,
   "id": "b4e9c48a",
   "metadata": {},
   "outputs": [
    {
     "name": "stdout",
     "output_type": "stream",
     "text": [
      "Index of the element 5: [4]\n"
     ]
    }
   ],
   "source": [
    "#66. Create a NumPy array of integers and find the index of a specific element.\n",
    "arr = np.array([1, 2, 3, 4, 5, 6, 7, 8, 9])\n",
    "index = np.where(arr == 5)[0]\n",
    "print(\"Index of the element 5:\", index)"
   ]
  },
  {
   "cell_type": "code",
   "execution_count": 119,
   "id": "843084f3",
   "metadata": {},
   "outputs": [
    {
     "name": "stdout",
     "output_type": "stream",
     "text": [
      "Random array: [41 95 94 99 70 33  5 83 99 91]\n",
      "Sorted array in ascending order: [ 5 33 41 70 83 91 94 95 99 99]\n"
     ]
    }
   ],
   "source": [
    "#67. Generate a random NumPy array and sort it in ascending order.\n",
    "random_array = np.random.randint(1, 100, size=10)\n",
    "sorted_array = np.sort(random_array)\n",
    "print(\"Random array:\", random_array)\n",
    "print(\"Sorted array in ascending order:\", sorted_array)\n"
   ]
  },
  {
   "cell_type": "code",
   "execution_count": 120,
   "id": "1559fa14",
   "metadata": {},
   "outputs": [
    {
     "name": "stdout",
     "output_type": "stream",
     "text": [
      "Filtered elements greater than 20: [25 42 30]\n"
     ]
    }
   ],
   "source": [
    "#68. Filter elements >20  in the given NumPy array\n",
    "arr = np.array([12, 25, 6, 42, 8, 30])\n",
    "filtered_elements = arr[arr > 20]\n",
    "\n",
    "print(\"Filtered elements greater than 20:\", filtered_elements)\n"
   ]
  },
  {
   "cell_type": "code",
   "execution_count": 121,
   "id": "53c49004",
   "metadata": {},
   "outputs": [
    {
     "name": "stdout",
     "output_type": "stream",
     "text": [
      "Filtered elements divisible by 3: [12 15]\n"
     ]
    }
   ],
   "source": [
    "#69. Filter elements which are divisible by 3 from a given NumPy array.\n",
    "arr = np.array([1, 5, 8, 12, 15])\n",
    "filtered_elements = arr[arr % 3 == 0]\n",
    "\n",
    "print(\"Filtered elements divisible by 3:\", filtered_elements)\n"
   ]
  },
  {
   "cell_type": "code",
   "execution_count": 122,
   "id": "4b773e95",
   "metadata": {},
   "outputs": [
    {
     "name": "stdout",
     "output_type": "stream",
     "text": [
      "Filtered elements ≥ 20 and ≤ 40: [20 30 40]\n"
     ]
    }
   ],
   "source": [
    "#70. Filter elements which are ≥ 20 and ≤ 40 from a given NumPy array.\n",
    "arr = np.array([10, 20, 30, 40, 50])\n",
    "filtered_elements = arr[(arr >= 20) & (arr <= 40)]\n",
    "\n",
    "print(\"Filtered elements ≥ 20 and ≤ 40:\", filtered_elements)\n"
   ]
  },
  {
   "cell_type": "code",
   "execution_count": 123,
   "id": "0b4116a5",
   "metadata": {},
   "outputs": [
    {
     "name": "stdout",
     "output_type": "stream",
     "text": [
      "Byte order: =\n"
     ]
    }
   ],
   "source": [
    "#71. For the given NumPy array, check its byte order using the `dtype` attribute byteorder\n",
    "arr = np.array([1, 2, 3])\n",
    "byte_order = arr.dtype.byteorder\n",
    "print(\"Byte order:\", byte_order)\n"
   ]
  },
  {
   "cell_type": "code",
   "execution_count": 124,
   "id": "69ee0c57",
   "metadata": {},
   "outputs": [
    {
     "name": "stdout",
     "output_type": "stream",
     "text": [
      "Byte-swapped array: [16777216 33554432 50331648]\n"
     ]
    }
   ],
   "source": [
    "#72. For the given NumPy array, perform byte swapping in place using `byteswap()`.\n",
    "arr = np.array([1, 2, 3], dtype=np.int32)\n",
    "arr.byteswap(inplace=True)\n",
    "print(\"Byte-swapped array:\", arr)"
   ]
  },
  {
   "cell_type": "code",
   "execution_count": 125,
   "id": "33c21ab4",
   "metadata": {},
   "outputs": [
    {
     "name": "stdout",
     "output_type": "stream",
     "text": [
      "Original array: [1 2 3]\n",
      "Swapped byte order array: [16777216 33554432 50331648]\n"
     ]
    }
   ],
   "source": [
    "#73. For the given NumPy array, swap its byte order without modifying the original array using `newbyteorder()`.\n",
    "arr = np.array([1, 2, 3], dtype=np.int32)\n",
    "swapped_arr = arr.newbyteorder()\n",
    "\n",
    "print(\"Original array:\", arr)\n",
    "print(\"Swapped byte order array:\", swapped_arr)\n"
   ]
  },
  {
   "cell_type": "code",
   "execution_count": 146,
   "id": "bffc53a2",
   "metadata": {},
   "outputs": [
    {
     "name": "stdout",
     "output_type": "stream",
     "text": [
      "Byte swapping is not necessary for the current system.\n"
     ]
    }
   ],
   "source": [
    "#74. For the given NumPy array and swap its byte order conditionally based on system endianness using `newbyteorder()`.\n",
    "import numpy as np\n",
    "\n",
    "# Given NumPy array\n",
    "arr = np.array([1, 2, 3], dtype=np.int32)\n",
    "\n",
    "# Check system endianness\n",
    "system_endianness = np.dtype('<i4').newbyteorder()\n",
    "\n",
    "# Swap the byte order based on system endianness\n",
    "swapped_arr = arr.newbyteorder(system_endianness)\n",
    "\n",
    "print(\"Original array:\", arr)\n",
    "print(\"Swapped byte order array based on system endianness:\", swapped_arr)"
   ]
  },
  {
   "cell_type": "code",
   "execution_count": null,
   "id": "1a3bffe8",
   "metadata": {},
   "outputs": [],
   "source": [
    "#75. For the given NumPy array, check if byte swapping is necessary for the current system using `dtype` attribute `byteorder`.\n",
    "arr = np.array([1, 2, 3], dtype=np.int32)\n",
    "byte_swapping_needed = arr.dtype.byteorder != '='\n",
    "if byte_swapping_needed:\n",
    "    print(\"Byte swapping is necessary for the current system.\")\n",
    "else:\n",
    "    print(\"Byte swapping is not necessary for the current system.\")"
   ]
  },
  {
   "cell_type": "code",
   "execution_count": 129,
   "id": "7d9703b4",
   "metadata": {},
   "outputs": [
    {
     "name": "stdout",
     "output_type": "stream",
     "text": [
      "Original arr1: [ 1  2  3  4  5  6  7  8  9 10]\n",
      "Modified copy_arr: [100   2   3   4   5   6   7   8   9  10]\n"
     ]
    }
   ],
   "source": [
    "#76. Create a NumPy array `arr1` with values from 1 to 10. Create a copy of `arr1` named `copy_arr` and modify an element in `copy_arr`. Check if modifying `copy_arr` affects `arr1`.\n",
    "arr1 = np.arange(1, 11)\n",
    "copy_arr = arr1.copy()\n",
    "copy_arr[0] = 100\n",
    "print(\"Original arr1:\", arr1)\n",
    "print(\"Modified copy_arr:\", copy_arr)"
   ]
  },
  {
   "cell_type": "code",
   "execution_count": 130,
   "id": "92435028",
   "metadata": {},
   "outputs": [
    {
     "name": "stdout",
     "output_type": "stream",
     "text": [
      "Original matrix:\n",
      "[[999  36   2]\n",
      " [  2  14   9]\n",
      " [ 64  31  81]]\n",
      "Modified view_slice:\n",
      "[[999  36]\n",
      " [  2  14]]\n"
     ]
    }
   ],
   "source": [
    "#77. Create a 2D NumPy array `matrix` of shape (3, 3) with random integers. Extract a slice `view_slice` from the matrix. Modify an element in `view_slice` and observe if it changes the original `matrix`.\n",
    "matrix = np.random.randint(1, 100, size=(3, 3))\n",
    "view_slice = matrix[:2, :2]\n",
    "view_slice[0, 0] = 999\n",
    "print(\"Original matrix:\")\n",
    "print(matrix)\n",
    "print(\"Modified view_slice:\")\n",
    "print(view_slice)"
   ]
  },
  {
   "cell_type": "code",
   "execution_count": 132,
   "id": "09f1e429",
   "metadata": {},
   "outputs": [
    {
     "name": "stdout",
     "output_type": "stream",
     "text": [
      "[[ 6  7  3]\n",
      " [ 9 10  6]\n",
      " [ 7  8  9]\n",
      " [10 11 12]]\n",
      "Modified view_b:\n",
      "[[ 6  7]\n",
      " [ 9 10]]\n"
     ]
    }
   ],
   "source": [
    "#78. Create a NumPy array `array_a` of shape (4, 3) with sequential integers from 1 to 12. Extract a slice `view_b` from `array_a` and broadcast the addition of 5 to view_b. Check if it alters the original `array_a`.\n",
    "array_a = np.arange(1, 13).reshape(4, 3)\n",
    "view_b = array_a[:2, :2]\n",
    "view_b += 5\n",
    "print(array_a)\n",
    "print(\"Modified view_b:\")\n",
    "print(view_b)"
   ]
  },
  {
   "cell_type": "code",
   "execution_count": 133,
   "id": "72d242b4",
   "metadata": {},
   "outputs": [
    {
     "name": "stdout",
     "output_type": "stream",
     "text": [
      "Original orig_array:\n",
      "[[99  2  3  4]\n",
      " [ 5  6  7  8]]\n",
      "Modified reshaped_view:\n",
      "[[99  2]\n",
      " [ 3  4]\n",
      " [ 5  6]\n",
      " [ 7  8]]\n"
     ]
    }
   ],
   "source": [
    "#79. Create a NumPy array `orig_array` of shape (2, 4) with values from 1 to 8. Create a reshaped view `reshaped_view` of shape (4, 2) from orig_array. Modify an element in `reshaped_view` and check if it reflects changes in the original `orig_array`.\n",
    "orig_array = np.arange(1, 9).reshape(2, 4)\n",
    "reshaped_view = orig_array.reshape(4, 2)\n",
    "reshaped_view[0, 0] = 99\n",
    "print(\"Original orig_array:\")\n",
    "print(orig_array)\n",
    "print(\"Modified reshaped_view:\")\n",
    "print(reshaped_view)"
   ]
  },
  {
   "cell_type": "code",
   "execution_count": 134,
   "id": "54b6fa17",
   "metadata": {},
   "outputs": [
    {
     "name": "stdout",
     "output_type": "stream",
     "text": [
      "Original data:\n",
      "[[5 6 2 6]\n",
      " [7 7 5 6]\n",
      " [2 7 3 3]]\n",
      "\n",
      "Copy of data with elements greater than 5:\n",
      "[10  6  7  7  6  7]\n",
      "\n",
      "Does modifying data_copy affect the original data?\n",
      "False\n"
     ]
    }
   ],
   "source": [
    "#80. Create a NumPy array `data` of shape (3, 4) with random integers. Extract a copy `data_copy` of elements greater than 5. Modify an element in `data_copy` and verify if it affects the original `data`.\n",
    "data = np.random.randint(0, 10, size=(3, 4))\n",
    "data_copy = data[data > 5].copy()\n",
    "data_copy[0] = 10\n",
    "print(\"Original data:\")\n",
    "print(data)\n",
    "\n",
    "print(\"\\nCopy of data with elements greater than 5:\")\n",
    "print(data_copy)\n",
    "print(\"\\nDoes modifying data_copy affect the original data?\")\n",
    "print(np.array_equal(data, data_copy))\n"
   ]
  },
  {
   "cell_type": "code",
   "execution_count": 135,
   "id": "f8ad3dac",
   "metadata": {},
   "outputs": [
    {
     "name": "stdout",
     "output_type": "stream",
     "text": [
      "Matrix A:\n",
      "[[1 2 3]\n",
      " [4 5 6]\n",
      " [7 8 9]]\n",
      "\n",
      "Matrix B:\n",
      "[[9 8 7]\n",
      " [6 5 4]\n",
      " [3 2 1]]\n",
      "\n",
      "Addition Result:\n",
      "[[10 10 10]\n",
      " [10 10 10]\n",
      " [10 10 10]]\n",
      "\n",
      "Subtraction Result:\n",
      "[[-8 -6 -4]\n",
      " [-2  0  2]\n",
      " [ 4  6  8]]\n"
     ]
    }
   ],
   "source": [
    "#81. Create two matrices A and B of identical shape containing integers and perform addition and subtraction operations between them.\n",
    "A = np.array([[1, 2, 3],\n",
    "              [4, 5, 6],\n",
    "              [7, 8, 9]])\n",
    "\n",
    "B = np.array([[9, 8, 7],\n",
    "              [6, 5, 4],\n",
    "              [3, 2, 1]])\n",
    "\n",
    "addition_result = A + B\n",
    "subtraction_result = A - B\n",
    "\n",
    "print(\"Matrix A:\")\n",
    "print(A)\n",
    "\n",
    "print(\"\\nMatrix B:\")\n",
    "print(B)\n",
    "\n",
    "print(\"\\nAddition Result:\")\n",
    "print(addition_result)\n",
    "\n",
    "print(\"\\nSubtraction Result:\")\n",
    "print(subtraction_result)\n"
   ]
  },
  {
   "cell_type": "code",
   "execution_count": 136,
   "id": "6253c81c",
   "metadata": {},
   "outputs": [
    {
     "name": "stdout",
     "output_type": "stream",
     "text": [
      "Matrix C:\n",
      "[[1 2]\n",
      " [3 4]\n",
      " [5 6]]\n",
      "\n",
      "Matrix D:\n",
      "[[ 7  8  9 10]\n",
      " [11 12 13 14]]\n",
      "\n",
      "Matrix Multiplication Result:\n",
      "[[ 29  32  35  38]\n",
      " [ 65  72  79  86]\n",
      " [101 112 123 134]]\n"
     ]
    }
   ],
   "source": [
    "#82. Generate two matrices `C` (3x2) and `D` (2x4) and perform matrix multiplication.\n",
    "C = np.array([[1, 2],\n",
    "              [3, 4],\n",
    "              [5, 6]])\n",
    "\n",
    "D = np.array([[7, 8, 9, 10],\n",
    "              [11, 12, 13, 14]])\n",
    "multiplication_result = np.dot(C, D)\n",
    "\n",
    "print(\"Matrix C:\")\n",
    "print(C)\n",
    "\n",
    "print(\"\\nMatrix D:\")\n",
    "print(D)\n",
    "\n",
    "print(\"\\nMatrix Multiplication Result:\")\n",
    "print(multiplication_result)\n"
   ]
  },
  {
   "cell_type": "code",
   "execution_count": 138,
   "id": "400ba529",
   "metadata": {},
   "outputs": [
    {
     "name": "stdout",
     "output_type": "stream",
     "text": [
      "Matrix E:\n",
      "[[1 2 3]\n",
      " [4 5 6]\n",
      " [7 8 9]]\n",
      "\n",
      "Transpose of Matrix E:\n",
      "[[1 4 7]\n",
      " [2 5 8]\n",
      " [3 6 9]]\n"
     ]
    }
   ],
   "source": [
    "#83. Create a matrix `E` and find its transpose.\n",
    "E = np.array([[1, 2, 3],\n",
    "              [4, 5, 6],\n",
    "              [7, 8, 9]])\n",
    "E_transpose = np.transpose(E)\n",
    "print(\"Matrix E:\")\n",
    "print(E)\n",
    "print(\"\\nTranspose of Matrix E:\")\n",
    "print(E_transpose)\n"
   ]
  },
  {
   "cell_type": "code",
   "execution_count": 139,
   "id": "f03eee88",
   "metadata": {},
   "outputs": [
    {
     "name": "stdout",
     "output_type": "stream",
     "text": [
      "Matrix F:\n",
      "[[1 2 3]\n",
      " [4 5 6]\n",
      " [7 8 9]]\n",
      "\n",
      "Determinant of Matrix F: -9.51619735392994e-16\n"
     ]
    }
   ],
   "source": [
    "#84. Generate a square matrix `F` and compute its determinant.\n",
    "F = np.array([[1, 2, 3],\n",
    "              [4, 5, 6],\n",
    "              [7, 8, 9]])\n",
    "\n",
    "determinant_F = np.linalg.det(F)\n",
    "\n",
    "print(\"Matrix F:\")\n",
    "print(F)\n",
    "\n",
    "print(\"\\nDeterminant of Matrix F:\", determinant_F)\n"
   ]
  },
  {
   "cell_type": "code",
   "execution_count": 140,
   "id": "1733c6ae",
   "metadata": {},
   "outputs": [
    {
     "name": "stdout",
     "output_type": "stream",
     "text": [
      "Matrix G:\n",
      "[[1 2]\n",
      " [3 4]]\n",
      "\n",
      "Inverse of Matrix G:\n",
      "[[-2.   1. ]\n",
      " [ 1.5 -0.5]]\n"
     ]
    }
   ],
   "source": [
    "#85. Create a square matrix `G` and find its inverse.\n",
    "G = np.array([[1, 2],\n",
    "              [3, 4]])\n",
    "\n",
    "inverse_G = np.linalg.inv(G)\n",
    "\n",
    "print(\"Matrix G:\")\n",
    "print(G)\n",
    "\n",
    "print(\"\\nInverse of Matrix G:\")\n",
    "print(inverse_G)\n"
   ]
  }
 ],
 "metadata": {
  "kernelspec": {
   "display_name": "Python 3 (ipykernel)",
   "language": "python",
   "name": "python3"
  },
  "language_info": {
   "codemirror_mode": {
    "name": "ipython",
    "version": 3
   },
   "file_extension": ".py",
   "mimetype": "text/x-python",
   "name": "python",
   "nbconvert_exporter": "python",
   "pygments_lexer": "ipython3",
   "version": "3.11.5"
  }
 },
 "nbformat": 4,
 "nbformat_minor": 5
}
